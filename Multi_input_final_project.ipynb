{
  "nbformat": 4,
  "nbformat_minor": 0,
  "metadata": {
    "colab": {
      "name": "Multi-input-final_project.ipynb",
      "provenance": [],
      "collapsed_sections": [],
      "machine_shape": "hm"
    },
    "kernelspec": {
      "name": "python3",
      "display_name": "Python 3"
    },
    "accelerator": "GPU"
  },
  "cells": [
    {
      "cell_type": "code",
      "metadata": {
        "id": "E1VrLQV0LCzA",
        "colab_type": "code",
        "outputId": "568953cd-f5cd-427a-9774-2f5143184b15",
        "colab": {
          "base_uri": "https://localhost:8080/",
          "height": 224
        }
      },
      "source": [
        "# Install the OpenSlide C library and Python bindings\n",
        "!apt-get install openslide-tools\n",
        "!pip install openslide-python"
      ],
      "execution_count": 0,
      "outputs": [
        {
          "output_type": "stream",
          "text": [
            "Reading package lists... Done\n",
            "Building dependency tree       \n",
            "Reading state information... Done\n",
            "openslide-tools is already the newest version (3.4.1+dfsg-2).\n",
            "The following package was automatically installed and is no longer required:\n",
            "  libnvidia-common-430\n",
            "Use 'apt autoremove' to remove it.\n",
            "0 upgraded, 0 newly installed, 0 to remove and 7 not upgraded.\n",
            "Requirement already satisfied: openslide-python in /usr/local/lib/python3.6/dist-packages (1.1.1)\n",
            "Requirement already satisfied: Pillow in /usr/local/lib/python3.6/dist-packages (from openslide-python) (4.3.0)\n",
            "Requirement already satisfied: olefile in /usr/local/lib/python3.6/dist-packages (from Pillow->openslide-python) (0.46)\n"
          ],
          "name": "stdout"
        }
      ]
    },
    {
      "cell_type": "code",
      "metadata": {
        "id": "DNrW6dHB3TAa",
        "colab_type": "code",
        "outputId": "56b3a0c5-7f08-4d06-97b6-def0e7393805",
        "colab": {
          "base_uri": "https://localhost:8080/",
          "height": 54
        }
      },
      "source": [
        "from google.colab import drive\n",
        "drive.mount('/content/drive')"
      ],
      "execution_count": 0,
      "outputs": [
        {
          "output_type": "stream",
          "text": [
            "Drive already mounted at /content/drive; to attempt to forcibly remount, call drive.mount(\"/content/drive\", force_remount=True).\n"
          ],
          "name": "stdout"
        }
      ]
    },
    {
      "cell_type": "markdown",
      "metadata": {
        "id": "IcsHdywmjAEm",
        "colab_type": "text"
      },
      "source": [
        "##Input##"
      ]
    },
    {
      "cell_type": "code",
      "metadata": {
        "id": "T9FfplKrL7Ef",
        "colab_type": "code",
        "colab": {}
      },
      "source": [
        "%matplotlib inline\n",
        "import matplotlib.pyplot as plt\n",
        "import numpy as np\n",
        "from openslide import open_slide, __library_version__ as openslide_version\n",
        "import os\n",
        "from PIL import Image\n",
        "from skimage.color import rgb2gray\n",
        "from sklearn.model_selection import train_test_split\n",
        "import random\n",
        "from matplotlib.colors import Normalize\n"
      ],
      "execution_count": 0,
      "outputs": []
    },
    {
      "cell_type": "code",
      "metadata": {
        "id": "gDegGoKfqtNT",
        "colab_type": "code",
        "outputId": "2eaf6862-6b7e-414c-ea15-aeb20141ec77",
        "colab": {
          "base_uri": "https://localhost:8080/",
          "height": 34
        }
      },
      "source": [
        "%tensorflow_version 2.x\n",
        "import tensorflow as tf"
      ],
      "execution_count": 0,
      "outputs": [
        {
          "output_type": "stream",
          "text": [
            "TensorFlow 2.x selected.\n"
          ],
          "name": "stdout"
        }
      ]
    },
    {
      "cell_type": "markdown",
      "metadata": {
        "id": "cbpEOdr-jFT3",
        "colab_type": "text"
      },
      "source": [
        "##Function##"
      ]
    },
    {
      "cell_type": "code",
      "metadata": {
        "id": "mkd8ol3iMTIl",
        "colab_type": "code",
        "colab": {}
      },
      "source": [
        "def apply_mask(im, mask, color=(255,0,0)):\n",
        "    masked = np.zeros(im.shape)\n",
        "    for x,y in mask: masked[x][y] = color\n",
        "    return masked\n",
        "def find_tissue_pixels(image, intensity=0.8):\n",
        "    im_gray = rgb2gray(image)\n",
        "    assert im_gray.shape == (image.shape[0], image.shape[1])\n",
        "    indices = np.where(im_gray <= intensity)\n",
        "    return zip(indices[0], indices[1])\n",
        "def apply_mask_1(im, mask, color=1):\n",
        "    #all tissue color = 1\n",
        "    masked = np.zeros(im.shape)\n",
        "    for x,y in mask: masked[x][y] = color\n",
        "    return masked\n",
        "def get_patch(slide, tumor_mask, lev, x_1, y_1, patch_size_x,patch_size_y):\n",
        "  #downsample_size\n",
        "  # downsample_size = 2 ** lev\n",
        "  # x_1 = x_1*downsample_size\n",
        "  # y_1 = y_1*downsample_size\n",
        "  #\n",
        "  slide_image = read_slide(slide, \n",
        "                      x=x_1, \n",
        "                      y=y_1, \n",
        "                      level=lev,\n",
        "                      width = patch_size_x,\n",
        "                      height = patch_size_y)\n",
        "\n",
        "  mask_image = read_slide(tumor_mask, \n",
        "                      x=x_1, \n",
        "                      y=y_1, \n",
        "                      level=lev,\n",
        "                      width = patch_size_x,\n",
        "                      height = patch_size_y)\n",
        "  \n",
        "  mask_image = mask_image[:,:,0]\n",
        "  \n",
        "  tissue_pixels = list(find_tissue_pixels(slide_image))\n",
        "  tissue_regions = apply_mask(slide_image,tissue_pixels)\n",
        "  tissue_regions_1 = apply_mask_1(slide_image,tissue_pixels)\n",
        "  tissue_mask = tissue_regions_1[:,:,0]\n",
        "  return slide_image, mask_image, tissue_regions_1, tissue_mask\n",
        "\n",
        "def plot_patch(name,level_n, patch_center,patch_image, patch_mask, patch_tissue):\n",
        "  patch_size = patch_image.shape[0]\n",
        "\n",
        "  offset = int((patch_size-patch_center)/2)\n",
        "  \n",
        "\n",
        "  tissue_ratio = np.sum(patch_tissue[:,:,0])/(patch_size**2)\n",
        "  \n",
        "  fig, axes = plt.subplots(1,2, figsize=(10,5))\n",
        "  \n",
        "  cmap = plt.cm.viridis\n",
        "\n",
        " \n",
        "  v_min, v_max = 0, 1\n",
        "  colors = Normalize(v_min, v_max)(patch_mask)\n",
        "  colors = cmap(colors)\n",
        "\n",
        "  colors[..., -1] = patch_mask\n",
        "  a = axes[0]\n",
        "  a.set_title(\"image:{}\".format(name))\n",
        "  a.imshow(patch_image)\n",
        "\n",
        "  a.grid(False)\n",
        "\n",
        "\n",
        "  a = axes[1]\n",
        "  a.imshow(patch_image)\n",
        "  a.grid(False)\n",
        "  a.imshow(colors, cmap='viridis', vmin=v_min, vmax=v_max, alpha=0.8)\n",
        "  a.plot([offset, offset+patch_center, offset+patch_center, offset, offset],\n",
        "                [offset, offset, offset+patch_center, offset+patch_center, offset], 'g')\n",
        "  a.set_title('Caner region in the center, level:{}'.format(level_n))\n",
        "\n",
        "\n",
        "  plt.show()\n",
        "\n",
        "def generate_good_bad_cell_location(slide,tumor_mask, lev):\n",
        "  whole_slide_lev, whole_mask_lev, whole_tissue_regions, whole_tissue_mask = get_patch(slide,\n",
        "                                                                                        tumor_mask,\n",
        "                                                                                        lev,\n",
        "                                                                                        0,\n",
        "                                                                                        0,\n",
        "                                                                                        slide.level_dimensions[lev][0],\n",
        "                                                                                        slide.level_dimensions[lev][1])\n",
        "  # return the index list of good and bad cell\n",
        "  bad_cell = []\n",
        "  good_cell= []\n",
        "  bad_cell_index = np.nonzero(whole_mask_lev)\n",
        "  for n in range(len(bad_cell_index[0])):\n",
        "    a = (bad_cell_index[1][n],bad_cell_index[0][n])\n",
        "    bad_cell.append(a)\n",
        "  good_cell_index = np.nonzero(whole_tissue_mask-whole_mask_lev)\n",
        "  for m in range(len(good_cell_index[0])):\n",
        "    b = (good_cell_index[1][m],good_cell_index[0][m])\n",
        "    good_cell.append(b)\n",
        "  return good_cell, bad_cell\n",
        "\n",
        "def label_of_patch(mask_image):\n",
        "  context_size = mask_image.shape[0]\n",
        "  center = int((context_size-128)/2)\n",
        "  if not (mask_image[center:context_size-center,center:context_size-center] == 0).all():\n",
        "    label = 1\n",
        "  else:\n",
        "    label = 0\n",
        "  return label\n",
        "\n",
        "def single_slide_given_two_level_patch_datas(slide_path,tumor_mask_path,lev,cell_ratio):\n",
        "  #patch_data_level3 = previous level\n",
        "  #patch_data_level4 = later level(zoom out)\n",
        "  patch_data_level3 = []\n",
        "  patch_data_level4 = []\n",
        "  patch_label = []\n",
        "  slide = open_slide(slide_path)\n",
        "  tumor_mask = open_slide(tumor_mask_path)\n",
        "  #Got the index list of good and bad cell in this level on this slide\n",
        "  #we choose level 3 and level 4 to get our result \n",
        "  good_cell, bad_cell = generate_good_bad_cell_location(slide,tumor_mask, lev)\n",
        "  bad_cell =  random.sample(bad_cell,140)\n",
        "  good_cell = random.sample(good_cell,cell_ratio*len(bad_cell))\n",
        "  for n in range(len(good_cell)):\n",
        "    (x,y) = good_cell[n]\n",
        "    downsample_size = 2**(lev)\n",
        "    x_1 = x*downsample_size\n",
        "    y_1 = y*downsample_size\n",
        "    #Get patch for the given level and label\n",
        "    slide_image_3, mask_image_3, tissue_regions_3, tissue_mask_3 = get_patch(slide, tumor_mask, lev, x_1, y_1,299,299)\n",
        "    slide_image_4, mask_image_4, tissue_regions_4, tissue_mask_4 = get_patch(slide, tumor_mask, lev+1, x_1, y_1,299,299)\n",
        "    patch_data_level3.append(tissue_regions_3)\n",
        "    patch_data_level4.append(tissue_regions_4)\n",
        "    #Get label\n",
        "    patch_label.append(label_of_patch(mask_image_3))\n",
        "  for n in range(len(bad_cell)):\n",
        "    (x,y) = bad_cell[n]\n",
        "    downsample_size = 2**(lev)\n",
        "    x_1 = x*downsample_size\n",
        "    y_1 = y*downsample_size\n",
        "    #Get patch and label\n",
        "    slide_image_3, mask_image_3, tissue_regions_3, tissue_mask_3 = get_patch(slide, tumor_mask, lev, x_1, y_1,299,299)\n",
        "    slide_image_4, mask_image_4, tissue_regions_4, tissue_mask_4 = get_patch(slide, tumor_mask, lev+1, x_1, y_1,299,299)\n",
        "    #slide_image, mask_image, tissue_regions, tissue_mask = get_patch(slide, tumor_mask, lev, x_1, y_1,299,299)\n",
        "    #patch_data.append(tissue_regions)\n",
        "    patch_data_level3.append(tissue_regions_3)\n",
        "    patch_data_level4.append(tissue_regions_4)\n",
        "    #Get label\n",
        "    patch_label.append(label_of_patch(mask_image_3))\n",
        "  return patch_data_level3,patch_data_level4,patch_label\n",
        "  \n",
        "def mulipy_layer(path_list):\n",
        "  total_patch_list_level_n = []\n",
        "  total_patch_list_level_m = []\n",
        "  total_label_list = [] \n",
        "  for fp in path_list:\n",
        "    slide_path ='/content/drive/My Drive/new_slides/Copy of tumor_' + fp +'.tif'\n",
        "    tumor_mask_path = '/content/drive/My Drive/new_slides/Copy of tumor_' + fp+'_mask.tif'\n",
        "    patch_data_level_n,patch_data_level_m,patch_label = single_slide_given_two_level_patch_datas(slide_path,tumor_mask_path,3,1)\n",
        "    total_patch_list_level_n = total_patch_list_level_n + patch_data_level_n\n",
        "    total_patch_list_level_m = total_patch_list_level_m + patch_data_level_m\n",
        "    total_label_list = total_label_list + patch_label\n",
        "  return total_patch_list_level_n,total_patch_list_level_m,total_label_list\n",
        "\n",
        "def multiple_datagen(X1, X2, y, preprocess_input):\n",
        "\n",
        "  X1 = preprocess_input(X1)\n",
        "  X2 = preprocess_input(X2)\n",
        "  \n",
        "  while True:   \n",
        "      idx = np.random.permutation(X1.shape[0])\n",
        "      datagen = ImageDataGenerator()\n",
        "      batches = datagen.flow(X1[idx], y[idx], batch_size=32)\n",
        "      idx0 = 0\n",
        "      for batch in batches:\n",
        "          idx1 = idx0 + batch[0].shape[0]\n",
        "\n",
        "          yield [batch[0], X2[idx[idx0:idx1]]], batch[1]\n",
        "\n",
        "          idx0 = idx1\n",
        "          if idx1 >= X1.shape[0]:\n",
        "              break\n",
        "  \n",
        "def rescale01(x):\n",
        "    \"\"\"Rescale RBG values to [0, 1]\n",
        "    \"\"\"\n",
        "    \n",
        "    x = x.astype(float)\n",
        "    x /= 255.\n",
        "    return x\n",
        "def heat_map(slide_path,tumor_mask_path,model_lev):\n",
        "  slide = open_slide(slide_path)\n",
        "  tumor_mask = open_slide(tumor_mask_path)\n",
        "  whole_slide_lev7, whole_mask_lev7, whole_tissue_regions_7, whole_tissue_mask_7 = get_patch(slide,\n",
        "                                                                                      tumor_mask,\n",
        "                                                                                      7,\n",
        "                                                                                      0,\n",
        "                                                                                      0,\n",
        "                                                                                      slide.level_dimensions[7][0],\n",
        "                                                                                      slide.level_dimensions[7][1])\n",
        "  #get the tissue index in lev7\n",
        "  tissue_cell = []\n",
        "  tissue_cell_index = np.nonzero(whole_tissue_mask_7)\n",
        "  for m in range(len(tissue_cell_index[0])):\n",
        "    b = (tissue_cell_index[1][m],tissue_cell_index[0][m])\n",
        "    tissue_cell.append(b)\n",
        "  #points_number = len(tissue_cell)//10\n",
        "  tissue_cell = random.sample(tissue_cell,2000)\n",
        "\n",
        "\n",
        "  #Get the predict patchs \n",
        "  predict_patch_data=[]\n",
        "  for n in range(len(tissue_cell)):\n",
        "    (x,y) = tissue_cell[n]\n",
        "    downsample_size = 2**(7)\n",
        "    x_1 = x*downsample_size - int(299/2)\n",
        "    y_1 = y*downsample_size - int(299/2)\n",
        "    #Get patch and label\n",
        "    slide_image, mask_image, tissue_regions, tissue_mask = get_patch(slide, tumor_mask, model_lev, x_1, y_1,299,299)\n",
        "    predict_patch_data.append(tissue_regions)\n",
        "  \n",
        "  #Get predict value\n",
        "  X = np.asarray(predict_patch_data)\n",
        "  X = X/255.0\n",
        "  pred_value = model.predict(X)\n",
        "  #plot heatmap\n",
        "  del predict_patch_data\n",
        "  heatmap = np.zeros(whole_slide_lev7.shape[:2])\n",
        "  for n in range(len(tissue_cell)):\n",
        "    (x,y) = tissue_cell[n]\n",
        "    # pred_array = np.zeros((2,2))\n",
        "    # pred_array[:,:] = pred_value[n]\n",
        "    if pred_value[n] > 0.98:\n",
        "      heatmap[y-5:y+5, x-5:x+5] = pred_value[n]\n",
        "  fig, axes = plt.subplots(1,2, figsize=(20,10), dpi=100)\n",
        "  a = axes[0]\n",
        "  a.imshow(whole_mask_lev7)\n",
        "  a = axes[1]\n",
        "  a.imshow(whole_slide_lev7)\n",
        "  a.imshow(heatmap, cmap='viridis', alpha=0.8)\n",
        "  plt.show()\n",
        "  return heatmap\n"
      ],
      "execution_count": 0,
      "outputs": []
    },
    {
      "cell_type": "markdown",
      "metadata": {
        "id": "Mfs1QcC2jLAM",
        "colab_type": "text"
      },
      "source": [
        "##Data processing##"
      ]
    },
    {
      "cell_type": "code",
      "metadata": {
        "id": "RBX5rKNJf4nV",
        "colab_type": "code",
        "colab": {}
      },
      "source": [
        "trainval_img_list = ['016', '031','064', '075', '078', '084', '094', '096', '101']\n",
        "test_img_list = ['091']\n",
        "\n",
        "trainval_patch_images_levn, trainval_patch_images_levm, trainval_patch_labels = mulipy_layer(trainval_img_list)\n",
        "test_patch_images_levn, test_patch_images_levm, test_patch_labels = mulipy_layer(test_img_list)\n"
      ],
      "execution_count": 0,
      "outputs": []
    },
    {
      "cell_type": "code",
      "metadata": {
        "id": "Gt2PoZBbyzsI",
        "colab_type": "code",
        "outputId": "9c9e2c4c-b7f6-4f2f-8bf1-d4be52d64b84",
        "colab": {
          "base_uri": "https://localhost:8080/",
          "height": 54
        }
      },
      "source": [
        "trainval_img_list = ['016', '031','064', '075', '078', '084', '094', '096', '101']\n",
        "test_img_list = ['091']\n",
        "\n",
        "trainval_patch_images_levn, trainval_patch_images_levm, trainval_patch_labels = mulipy_layer(trainval_img_list)\n",
        "test_patch_images_levn, test_patch_images_levm, test_patch_labels = mulipy_layer(test_img_list)\n"
      ],
      "execution_count": 0,
      "outputs": [
        {
          "output_type": "stream",
          "text": [
            "total training and validation set size: (2176, 299, 299, 3) lable size: (2176,)\n",
            "training size: (1740, 299, 299, 3) validation size: (436, 299, 299, 3) (1740,) (436,)\n"
          ],
          "name": "stdout"
        }
      ]
    },
    {
      "cell_type": "code",
      "metadata": {
        "id": "F-1ntpyi9Zeh",
        "colab_type": "code",
        "colab": {}
      },
      "source": [
        "del trainval_patch_images_levn, trainval_patch_images_levm, trainval_patch_labels,\n",
        "del test_patch_images_levn, test_patch_images_levm, test_patch_labels"
      ],
      "execution_count": 0,
      "outputs": []
    },
    {
      "cell_type": "code",
      "metadata": {
        "id": "zq646qqcf_ZL",
        "colab_type": "code",
        "colab": {}
      },
      "source": [
        "model_name = '/content/drive/My Drive/data'\n",
        "X1_trainval_filename = model_name+'_X1_trainval.npy'\n",
        "X2_trainval_filename = model_name+'_X2_trainval.npy'\n",
        "y_trainval_filename = model_name+'_y_trainval.npy'\n",
        "\n",
        "X1_test_filename = model_name+'_X1_test.npy'\n",
        "X2_test_filename = model_name+'_X2_test.npy'\n",
        "y_test_filename = model_name+'_y_test.npy'\n",
        "\n",
        "np.save(X1_trainval_filename, X1_trainval)\n",
        "np.save(X2_trainval_filename, X2_trainval)\n",
        "np.save(y_trainval_filename, y_trainval)\n",
        "np.save(X1_test_filename, X1_test)\n",
        "np.save(X2_test_filename, X2_test)\n",
        "np.save(y_test_filename, y_test)"
      ],
      "execution_count": 0,
      "outputs": []
    },
    {
      "cell_type": "code",
      "metadata": {
        "id": "_m9INhQsgTAh",
        "colab_type": "code",
        "colab": {}
      },
      "source": [
        "preprocess_input = rescale01\n",
        "train_generator = multiple_datagen(X1_train, X2_train, y_train, preprocess_input)\n",
        "val_generator = multiple_datagen(X1_val, X2_val, y_val, preprocess_input)\n",
        "test_generator = multiple_datagen(X1_test, X2_test, y_test, preprocess_input)"
      ],
      "execution_count": 0,
      "outputs": []
    },
    {
      "cell_type": "code",
      "metadata": {
        "id": "qfO6DYAi2udo",
        "colab_type": "code",
        "colab": {}
      },
      "source": [
        "from tensorflow.keras.layers import Dense, Embedding, Flatten, Input, LSTM, Conv2D,BatchNormalization, MaxPooling2D, Activation\n",
        "from tensorflow.keras.models import Model, Sequential\n",
        "image_input_1 = Input(shape=(299, 299, 3)) \n",
        "image_input_2 = Input(shape=(299, 299, 3)) \n",
        "\n",
        "\n",
        "first_lev_model = Sequential()\n",
        "first_lev_model.add(Conv2D(32, kernel_size=(5, 5), padding='same'))\n",
        "first_lev_model.add(BatchNormalization())\n",
        "first_lev_model.add(Activation('relu'))\n",
        "first_lev_model.add(MaxPooling2D(pool_size=(2, 2)))\n",
        "first_lev_model.add(Conv2D(32, kernel_size=(3, 3), padding='same'))\n",
        "first_lev_model.add(BatchNormalization())\n",
        "first_lev_model.add(Activation('relu'))\n",
        "first_lev_model.add(MaxPooling2D(pool_size=(2, 2)))\n",
        "first_lev_model.add(Conv2D(32, kernel_size=(3, 3), padding='same'))\n",
        "first_lev_model.add(BatchNormalization())\n",
        "first_lev_model.add(Activation('relu'))\n",
        "first_lev_model.add(MaxPooling2D(pool_size=(2, 2)))\n",
        "\n",
        "second_lev_model = Sequential()\n",
        "second_lev_model.add(Conv2D(32, kernel_size=(5, 5), padding='same'))\n",
        "second_lev_model.add(BatchNormalization())\n",
        "second_lev_model.add(Activation('relu'))\n",
        "second_lev_model.add(MaxPooling2D(pool_size=(2, 2)))\n",
        "second_lev_model.add(Conv2D(32, kernel_size=(3, 3), padding='same'))\n",
        "second_lev_model.add(BatchNormalization())\n",
        "second_lev_model.add(Activation('relu'))\n",
        "second_lev_model.add(MaxPooling2D(pool_size=(2, 2)))\n",
        "second_lev_model.add(Conv2D(32, kernel_size=(3, 3), padding='same'))\n",
        "second_lev_model.add(BatchNormalization())\n",
        "second_lev_model.add(Activation('relu'))\n",
        "second_lev_model.add(MaxPooling2D(pool_size=(2, 2)))\n",
        "\n",
        "encoded_image_1 = first_lev_model(image_input_1)\n",
        "encoded_image_2 = second_lev_model(image_input_2)\n",
        "\n",
        "merged = tf.keras.layers.concatenate([encoded_image_1, encoded_image_2])\n",
        "output = Dense(128, activation='relu')(merged)\n",
        "output = Dense(1, activation='sigmoid')(merged)\n",
        "\n",
        "model = Model(inputs=[image_input_1, image_input_2], outputs=output)"
      ],
      "execution_count": 0,
      "outputs": []
    },
    {
      "cell_type": "code",
      "metadata": {
        "id": "qM3WS92sr-vO",
        "colab_type": "code",
        "colab": {}
      },
      "source": [
        "model.compile(optimizer='adam',\n",
        "                     loss='binary_crossentropy',\n",
        "                     metrics=['accuracy'])"
      ],
      "execution_count": 0,
      "outputs": []
    },
    {
      "cell_type": "code",
      "metadata": {
        "id": "kvFx92NYAEWj",
        "colab_type": "code",
        "outputId": "5dd0d230-ff17-4b68-8007-ad6581a1527a",
        "colab": {
          "base_uri": "https://localhost:8080/",
          "height": 765
        }
      },
      "source": [
        "history = model.fit_generator(train_generator, steps_per_epoch=len(X1_train)//32, epochs=14,validation_data=val_generator)"
      ],
      "execution_count": 0,
      "outputs": [
        {
          "output_type": "stream",
          "text": [
            "WARNING:tensorflow:From <ipython-input-18-469cc8489ec6>:7: Model.fit_generator (from tensorflow.python.keras.engine.training) is deprecated and will be removed in a future version.\n",
            "Instructions for updating:\n",
            "Please use Model.fit, which supports generators.\n",
            "WARNING:tensorflow:sample_weight modes were coerced from\n",
            "  ...\n",
            "    to  \n",
            "  ['...']\n",
            "WARNING:tensorflow:sample_weight modes were coerced from\n",
            "  ...\n",
            "    to  \n",
            "  ['...']\n",
            "Train for 54 steps, validate for 14 steps\n",
            "Epoch 1/14\n",
            "54/54 [==============================] - 29s 539ms/step - loss: 1.5892 - accuracy: 0.5322 - val_loss: 1594.4211 - val_accuracy: 0.6376\n",
            "Epoch 2/14\n",
            "54/54 [==============================] - 15s 272ms/step - loss: 1.0746 - accuracy: 0.6054 - val_loss: 2192237.1964 - val_accuracy: 0.4495\n",
            "Epoch 3/14\n",
            "54/54 [==============================] - 15s 272ms/step - loss: 0.6979 - accuracy: 0.6552 - val_loss: 65904.8368 - val_accuracy: 0.4495\n",
            "Epoch 4/14\n",
            "54/54 [==============================] - 15s 272ms/step - loss: 0.6396 - accuracy: 0.6985 - val_loss: 3140.1097 - val_accuracy: 0.5917\n",
            "Epoch 5/14\n",
            "54/54 [==============================] - 15s 272ms/step - loss: 0.5786 - accuracy: 0.7600 - val_loss: 63.1150 - val_accuracy: 0.6124\n",
            "Epoch 6/14\n",
            "54/54 [==============================] - 15s 272ms/step - loss: 0.4910 - accuracy: 0.7974 - val_loss: 1.6146 - val_accuracy: 0.6514\n",
            "Epoch 7/14\n",
            "54/54 [==============================] - 15s 273ms/step - loss: 0.5263 - accuracy: 0.7898 - val_loss: 1.3225 - val_accuracy: 0.6491\n",
            "Epoch 8/14\n",
            "54/54 [==============================] - 15s 274ms/step - loss: 0.4161 - accuracy: 0.8343 - val_loss: 2.8429 - val_accuracy: 0.5183\n",
            "Epoch 9/14\n",
            "54/54 [==============================] - 15s 273ms/step - loss: 0.3736 - accuracy: 0.8624 - val_loss: 1.7802 - val_accuracy: 0.6812\n",
            "Epoch 10/14\n",
            "54/54 [==============================] - 15s 274ms/step - loss: 0.2079 - accuracy: 0.9221 - val_loss: 1.0309 - val_accuracy: 0.7156\n",
            "Epoch 11/14\n",
            "54/54 [==============================] - 15s 271ms/step - loss: 0.1052 - accuracy: 0.9789 - val_loss: 0.4295 - val_accuracy: 0.8876\n",
            "Epoch 12/14\n",
            "54/54 [==============================] - 15s 273ms/step - loss: 0.1108 - accuracy: 0.9713 - val_loss: 0.2110 - val_accuracy: 0.9174\n",
            "Epoch 13/14\n",
            "54/54 [==============================] - 15s 273ms/step - loss: 0.0830 - accuracy: 0.9859 - val_loss: 0.3869 - val_accuracy: 0.8945\n",
            "Epoch 14/14\n",
            "54/54 [==============================] - 15s 271ms/step - loss: 0.0544 - accuracy: 0.9877 - val_loss: 0.0735 - val_accuracy: 0.9817\n"
          ],
          "name": "stdout"
        }
      ]
    },
    {
      "cell_type": "code",
      "metadata": {
        "id": "oteKfCyHvj8A",
        "colab_type": "code",
        "outputId": "1e3cabb2-2753-4d46-bc6d-0062ee85ffe3",
        "colab": {
          "base_uri": "https://localhost:8080/",
          "height": 545
        }
      },
      "source": [
        "import matplotlib.pyplot as plt\n",
        "\n",
        "acc = history.history['accuracy']\n",
        "val_acc = history.history['val_accuracy']\n",
        "loss = history.history['loss']\n",
        "val_loss = history.history['val_loss']\n",
        "\n",
        "epochs = range(len(acc))\n",
        "\n",
        "plt.plot(epochs, acc, 'go', label='Training acc')\n",
        "plt.plot(epochs, val_acc, 'g', label='Validation acc')\n",
        "plt.title('Training and validation accuracy')\n",
        "plt.legend()\n",
        "\n",
        "plt.figure()\n",
        "\n",
        "plt.plot(epochs, loss, 'go', label='Training loss')\n",
        "plt.plot(epochs, val_loss, 'g', label='Validation loss')\n",
        "plt.title('Training and validation loss')\n",
        "plt.legend()\n",
        "\n",
        "plt.show()"
      ],
      "execution_count": 0,
      "outputs": [
        {
          "output_type": "display_data",
          "data": {
            "image/png": "[encoded data removed]",
            "text/plain": [
              "<Figure size 432x288 with 1 Axes>"
            ]
          },
          "metadata": {
            "tags": []
          }
        },
        {
          "output_type": "display_data",
          "data": {
            "image/png": "[encoded data removed]",
            "text/plain": [
              "<Figure size 432x288 with 1 Axes>"
            ]
          },
          "metadata": {
            "tags": []
          }
        }
      ]
    },
    {
      "cell_type": "code",
      "metadata": {
        "colab_type": "code",
        "outputId": "1babef32-221e-4df9-fe64-c5be990f2efb",
        "id": "D86_12NIiYRl",
        "colab": {
          "base_uri": "https://localhost:8080/",
          "height": 201
        }
      },
      "source": [
        "test_loss, test_acc = model.evaluate_generator(test_generator, steps=50)\n",
        "print('Test loss: %.3f, accuracy: %.3f' % (test_loss, test_acc))"
      ],
      "execution_count": 0,
      "outputs": [
        {
          "output_type": "stream",
          "text": [
            "WARNING:tensorflow:From <ipython-input-21-d5976de036b8>:1: Model.evaluate_generator (from tensorflow.python.keras.engine.training) is deprecated and will be removed in a future version.\n",
            "Instructions for updating:\n",
            "Please use Model.evaluate, which supports generators.\n",
            "WARNING:tensorflow:sample_weight modes were coerced from\n",
            "  ...\n",
            "    to  \n",
            "  ['...']\n",
            "WARNING:tensorflow:Your input ran out of data; interrupting training. Make sure that your dataset or generator can generate at least `steps_per_epoch * epochs` batches (in this case, 50 batches). You may need to use the repeat() function when building your dataset.\n",
            "Test loss: 0.133, accuracy: 0.881\n"
          ],
          "name": "stdout"
        }
      ]
    },
    {
      "cell_type": "markdown",
      "metadata": {
        "id": "J96nCTFwjjA9",
        "colab_type": "text"
      },
      "source": [
        "##Final test accuray = 0.881##"
      ]
    }
  ]
}